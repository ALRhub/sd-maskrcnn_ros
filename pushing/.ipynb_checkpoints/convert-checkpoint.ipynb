{
 "cells": [
  {
   "cell_type": "code",
   "execution_count": 6,
   "metadata": {},
   "outputs": [],
   "source": [
    "import numpy as np\n",
    "import skimage\n",
    "import matplotlib.pyplot as plt\n",
    "import autolab_core\n",
    "from perception import DepthImage"
   ]
  },
  {
   "cell_type": "code",
   "execution_count": null,
   "metadata": {
    "scrolled": false
   },
   "outputs": [],
   "source": [
    "import cv2\n",
    "\n",
    "for i in range(10):\n",
    "    path = 'test_case_{}/phoxi/depth_0.npy'.format(i)\n",
    "    print(path)\n",
    "    img = np.load(path)\n",
    "    img = np.reshape(img, img.shape[:2])\n",
    "\n",
    "    plt.imshow(img, cmap=plt.cm.gray_r)\n",
    "    plt.show()\n",
    "\n",
    "    img_depth = DepthImage(img)\n",
    "\n",
    "    print(img_depth.shape)\n",
    "    \n",
    "    img_depth = img_depth.inpaint()\n",
    "    plt.imshow(img_depth.data, cmap=plt.cm.gray_r)\n",
    "    plt.show()\n",
    "    \n",
    "    \n",
    "    \n",
    "    \n",
    "    save_path = 'test_case_{}/phoxi/inpainted_0.png'.format(i)\n",
    "#     save_path_2 = 'inpainted/inpainted_{}.png'.format(i)\n",
    "    print(save_path)\n",
    "    img_depth.save(save_path)\n",
    "#     img_depth.save(save_path_2)\n",
    "\n",
    "    img_cropped = img_depth.crop(600, 900)\n",
    "    plt.imshow(img_cropped.data, cmap=plt.cm.gray_r)\n",
    "    plt.show()\n",
    "    \n",
    "# img_cropped = img[200:600, 400:800]\n",
    "# # plt.imshow(img_cropped, cmap=plt.cm.gray_r)\n",
    "# # plt.show()\n",
    "\n",
    "# # plt.plot(img_cropped[80, :])\n",
    "# # plt.show()\n",
    "\n"
   ]
  },
  {
   "cell_type": "code",
   "execution_count": null,
   "metadata": {},
   "outputs": [],
   "source": []
  },
  {
   "cell_type": "code",
   "execution_count": null,
   "metadata": {},
   "outputs": [],
   "source": []
  }
 ],
 "metadata": {
  "kernelspec": {
   "display_name": "Python 3",
   "language": "python",
   "name": "python3"
  },
  "language_info": {
   "codemirror_mode": {
    "name": "ipython",
    "version": 3
   },
   "file_extension": ".py",
   "mimetype": "text/x-python",
   "name": "python",
   "nbconvert_exporter": "python",
   "pygments_lexer": "ipython3",
   "version": "3.5.2"
  }
 },
 "nbformat": 4,
 "nbformat_minor": 2
}
